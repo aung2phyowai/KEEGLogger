{
 "cells": [
  {
   "cell_type": "code",
   "execution_count": 13,
   "metadata": {},
   "outputs": [],
   "source": [
    "import pandas as pd\n",
    "import numpy as np\n",
    "import matplotlib.pyplot as plt\n",
    "%matplotlib inline "
   ]
  },
  {
   "cell_type": "code",
   "execution_count": null,
   "metadata": {},
   "outputs": [],
   "source": [
    "user = \"dennis\""
   ]
  },
  {
   "cell_type": "code",
   "execution_count": 4,
   "metadata": {},
   "outputs": [],
   "source": [
    "df = pd.DataFrame.from_csv(\"C:\\Users\\Rose\\Documents\\KEEGLogger\\KEEGLogger\\KEEGLogger\\session data\\dennis\\PIN_FIXED\\dennis_PIN_FIXED_4_2017-10-17-21-55-49_2017-10-17-21-56-56_EEG.csv\")"
   ]
  },
  {
   "cell_type": "code",
   "execution_count": 1,
   "metadata": {},
   "outputs": [
    {
     "ename": "NameError",
     "evalue": "name 'df' is not defined",
     "output_type": "error",
     "traceback": [
      "\u001b[1;31m---------------------------------------------------------------------------\u001b[0m",
      "\u001b[1;31mNameError\u001b[0m                                 Traceback (most recent call last)",
      "\u001b[1;32m<ipython-input-1-633337079cd0>\u001b[0m in \u001b[0;36m<module>\u001b[1;34m()\u001b[0m\n\u001b[1;32m----> 1\u001b[1;33m \u001b[0mdf\u001b[0m\u001b[1;33m.\u001b[0m\u001b[0mshape\u001b[0m\u001b[1;33m\u001b[0m\u001b[0m\n\u001b[0m",
      "\u001b[1;31mNameError\u001b[0m: name 'df' is not defined"
     ]
    }
   ],
   "source": [
    "df.shape"
   ]
  },
  {
   "cell_type": "code",
   "execution_count": 16,
   "metadata": {},
   "outputs": [
    {
     "data": {
      "text/html": [
       "<div>\n",
       "<style>\n",
       "    .dataframe thead tr:only-child th {\n",
       "        text-align: right;\n",
       "    }\n",
       "\n",
       "    .dataframe thead th {\n",
       "        text-align: left;\n",
       "    }\n",
       "\n",
       "    .dataframe tbody tr th {\n",
       "        vertical-align: top;\n",
       "    }\n",
       "</style>\n",
       "<table border=\"1\" class=\"dataframe\">\n",
       "  <thead>\n",
       "    <tr style=\"text-align: right;\">\n",
       "      <th></th>\n",
       "      <th>TP9</th>\n",
       "      <th>AF7</th>\n",
       "      <th>AF8</th>\n",
       "      <th>TP10</th>\n",
       "      <th>Right_AUX</th>\n",
       "    </tr>\n",
       "    <tr>\n",
       "      <th>timestamp</th>\n",
       "      <th></th>\n",
       "      <th></th>\n",
       "      <th></th>\n",
       "      <th></th>\n",
       "      <th></th>\n",
       "    </tr>\n",
       "  </thead>\n",
       "  <tbody>\n",
       "    <tr>\n",
       "      <th>1.507229e+12</th>\n",
       "      <td>65.429688</td>\n",
       "      <td>65.429688</td>\n",
       "      <td>65.429688</td>\n",
       "      <td>65.429688</td>\n",
       "      <td>65.429688</td>\n",
       "    </tr>\n",
       "    <tr>\n",
       "      <th>1.507229e+12</th>\n",
       "      <td>489.257812</td>\n",
       "      <td>432.617188</td>\n",
       "      <td>971.191406</td>\n",
       "      <td>753.906250</td>\n",
       "      <td>-304.199219</td>\n",
       "    </tr>\n",
       "    <tr>\n",
       "      <th>1.507229e+12</th>\n",
       "      <td>432.617188</td>\n",
       "      <td>753.906250</td>\n",
       "      <td>62.500000</td>\n",
       "      <td>-55.175781</td>\n",
       "      <td>64.941406</td>\n",
       "    </tr>\n",
       "    <tr>\n",
       "      <th>1.507229e+12</th>\n",
       "      <td>971.191406</td>\n",
       "      <td>62.500000</td>\n",
       "      <td>-928.710938</td>\n",
       "      <td>176.269531</td>\n",
       "      <td>-373.535156</td>\n",
       "    </tr>\n",
       "    <tr>\n",
       "      <th>1.507229e+12</th>\n",
       "      <td>753.906250</td>\n",
       "      <td>-55.175781</td>\n",
       "      <td>176.269531</td>\n",
       "      <td>55.664062</td>\n",
       "      <td>64.941406</td>\n",
       "    </tr>\n",
       "  </tbody>\n",
       "</table>\n",
       "</div>"
      ],
      "text/plain": [
       "                     TP9         AF7         AF8        TP10   Right_AUX\n",
       "timestamp                                                               \n",
       "1.507229e+12   65.429688   65.429688   65.429688   65.429688   65.429688\n",
       "1.507229e+12  489.257812  432.617188  971.191406  753.906250 -304.199219\n",
       "1.507229e+12  432.617188  753.906250   62.500000  -55.175781   64.941406\n",
       "1.507229e+12  971.191406   62.500000 -928.710938  176.269531 -373.535156\n",
       "1.507229e+12  753.906250  -55.175781  176.269531   55.664062   64.941406"
      ]
     },
     "execution_count": 16,
     "metadata": {},
     "output_type": "execute_result"
    }
   ],
   "source": [
    "df.head()"
   ]
  },
  {
   "cell_type": "code",
   "execution_count": null,
   "metadata": {},
   "outputs": [],
   "source": []
  },
  {
   "cell_type": "code",
   "execution_count": 20,
   "metadata": {},
   "outputs": [
    {
     "data": {
      "text/plain": [
       "dtype('float64')"
      ]
     },
     "execution_count": 20,
     "metadata": {},
     "output_type": "execute_result"
    }
   ],
   "source": [
    "df.index.dtype"
   ]
  },
  {
   "cell_type": "code",
   "execution_count": 21,
   "metadata": {},
   "outputs": [
    {
     "data": {
      "text/plain": [
       "Float64Index([ 1.5072288873e+12, 1.50722888731e+12, 1.50722888731e+12,\n",
       "              1.50722888731e+12, 1.50722888732e+12],\n",
       "             dtype='float64', name='timestamp')"
      ]
     },
     "execution_count": 21,
     "metadata": {},
     "output_type": "execute_result"
    }
   ],
   "source": [
    "df.index[:5]"
   ]
  },
  {
   "cell_type": "code",
   "execution_count": 32,
   "metadata": {},
   "outputs": [
    {
     "data": {
      "text/plain": [
       "<matplotlib.axes._subplots.AxesSubplot at 0x1eaaabec9e8>"
      ]
     },
     "execution_count": 32,
     "metadata": {},
     "output_type": "execute_result"
    },
    {
     "data": {
      "image/png": "[encoded data removed]",
      "text/plain": [
       "<matplotlib.figure.Figure at 0x1eaa2cf2e80>"
      ]
     },
     "metadata": {},
     "output_type": "display_data"
    }
   ],
   "source": [
    "df.iloc[50:1500,:1].plot()"
   ]
  },
  {
   "cell_type": "code",
   "execution_count": null,
   "metadata": {},
   "outputs": [],
   "source": []
  },
  {
   "cell_type": "code",
   "execution_count": null,
   "metadata": {},
   "outputs": [],
   "source": []
  },
  {
   "cell_type": "code",
   "execution_count": null,
   "metadata": {},
   "outputs": [],
   "source": []
  }
 ],
 "metadata": {
  "kernelspec": {
   "display_name": "Python 3",
   "language": "python",
   "name": "python3"
  },
  "language_info": {
   "codemirror_mode": {
    "name": "ipython",
    "version": 3
   },
   "file_extension": ".py",
   "mimetype": "text/x-python",
   "name": "python",
   "nbconvert_exporter": "python",
   "pygments_lexer": "ipython3",
   "version": "3.6.1"
  }
 },
 "nbformat": 4,
 "nbformat_minor": 2
}
